{
 "cells": [
  {
   "cell_type": "markdown",
   "id": "88650177",
   "metadata": {},
   "source": [
    "# Logistic Regression Interview Questions"
   ]
  },
  {
   "cell_type": "markdown",
   "id": "4092ba34",
   "metadata": {},
   "source": [
    "#### 1. What is Data Science? List the differences between supervised and unsupervised learning ?"
   ]
  },
  {
   "cell_type": "markdown",
   "id": "f865ae18",
   "metadata": {},
   "source": [
    "Data science is the study of data to extract meaningful insights for business. It is a multidisciplinary approach that combines \n",
    "principles and practices from the fields of mathematics, statistics, artificial intelligence, and computer engineering to \n",
    "analyze large amounts of data. This analysis helps data scientists to ask and answer questions like what happened, why it \n",
    "happened, what will happen, and what can be done with the results."
   ]
  },
  {
   "cell_type": "markdown",
   "id": "947df440",
   "metadata": {},
   "source": [
    "#### 2. What is logistic regression?"
   ]
  },
  {
   "cell_type": "markdown",
   "id": "2c9ee4b3",
   "metadata": {},
   "source": [
    "Logistic regression is a type of statistical model (also known as logit model) is often used for classification and predictive \n",
    "analytics. Logistic regression estimates the probability of an event occurring, such as voted or didn’t vote, based on a given \n",
    "dataset of independent variables. Since the outcome is a probability, the dependent variable is bounded between 0 and 1. \n",
    "In logistic regression, a logit transformation is applied on the odds—that is, the probability of success divided by the probability of failure."
   ]
  },
  {
   "cell_type": "markdown",
   "id": "ca5130bb",
   "metadata": {},
   "source": [
    "#### 3. How will you deal with the multiclass classification problem using logistic regression?"
   ]
  },
  {
   "cell_type": "markdown",
   "id": "fa1e4610",
   "metadata": {},
   "source": [
    "Logistic regression, by default, is limited to two-class classification problems. Some extensions like one-vs-rest can allow \n",
    "logistic regression to be used for multi-class classification problems, although they require that the classification problem \n",
    "first be transformed into multiple binary classification problems.\n",
    "\n",
    "Instead, the multinomial logistic regression algorithm is an extension to the logistic regression model that involves changing \n",
    "the loss function to cross-entropy loss and predict probability distribution to a multinomial probability distribution to \n",
    "natively support multi-class classification problems."
   ]
  },
  {
   "cell_type": "markdown",
   "id": "8c29300b",
   "metadata": {},
   "source": [
    "#### 4. What is the difference between Linear Regression and Logistic Regression?"
   ]
  },
  {
   "cell_type": "markdown",
   "id": "da5d2cdf",
   "metadata": {},
   "source": [
    "The Differences between Linear Regression and Logistic Regression\n",
    "\n",
    "- Linear Regression is used to handle regression problems whereas Logistic regression is used to handle the classification problems.\n",
    "- Linear regression provides a continuous output but Logistic regression provides discreet output.\n",
    "- The purpose of Linear Regression is to find the best-fitted line while Logistic regression is one step ahead and fitting the line values to the sigmoid curve.\n",
    "- The method for calculating loss function in linear regression is the mean squared error whereas for logistic regression it is maximum likelihood estimation.\n"
   ]
  },
  {
   "cell_type": "markdown",
   "id": "54150357",
   "metadata": {},
   "source": [
    "#### 5. Why is logistic regression very popular?"
   ]
  },
  {
   "cell_type": "markdown",
   "id": "27105c2a",
   "metadata": {},
   "source": [
    "Logistic regression is famous because it can convert the values of logits (log-odds), which can range from −∞ to +∞ to a range \n",
    "between 0 and 1. As logistic functions output the probability of occurrence of an event, it can be applied to many real-life \n",
    "scenarios. It is for this reason that the logistic regression model is very popular. Another reason why logistic fairs in \n",
    "comparison to linear regression is that it is able to handle the categorical variables."
   ]
  },
  {
   "cell_type": "markdown",
   "id": "414feba2",
   "metadata": {},
   "source": [
    "#### 6. What is the formula for the logistic regression function?"
   ]
  },
  {
   "cell_type": "markdown",
   "id": "560e97cb",
   "metadata": {},
   "source": [
    "Logistic regression is a statistical analysis method to predict a binary outcome, such as yes or no, based on prior \n",
    "observations of a data set. A logistic regression model predicts a dependent data variable by analyzing the relationship \n",
    "between one or more existing independent variables."
   ]
  },
  {
   "cell_type": "markdown",
   "id": "e4041867",
   "metadata": {},
   "source": [
    "#### 7. What are the assumptions made in logistic regression?"
   ]
  },
  {
   "cell_type": "code",
   "execution_count": null,
   "id": "36d8e0e9",
   "metadata": {},
   "outputs": [],
   "source": []
  },
  {
   "cell_type": "markdown",
   "id": "cda8b5ee",
   "metadata": {},
   "source": [
    "#### 8. Why is logistic regression called regression and not classification?"
   ]
  },
  {
   "cell_type": "code",
   "execution_count": null,
   "id": "dcf9fe1b",
   "metadata": {},
   "outputs": [],
   "source": []
  },
  {
   "cell_type": "markdown",
   "id": "247a7d51",
   "metadata": {},
   "source": [
    "#### 9. Explain the general intuition behind logistic regression?"
   ]
  },
  {
   "cell_type": "code",
   "execution_count": null,
   "id": "de4c1edb",
   "metadata": {},
   "outputs": [],
   "source": []
  },
  {
   "cell_type": "markdown",
   "id": "0a159f49",
   "metadata": {},
   "source": [
    "#### 10. Explain the significance of the sigmoid function."
   ]
  },
  {
   "cell_type": "code",
   "execution_count": null,
   "id": "d6f2457c",
   "metadata": {},
   "outputs": [],
   "source": []
  },
  {
   "cell_type": "markdown",
   "id": "d2b572b1",
   "metadata": {},
   "source": [
    "### 11. How does Gradient Descent work in Logistic Regression?"
   ]
  },
  {
   "cell_type": "code",
   "execution_count": null,
   "id": "94506d51",
   "metadata": {},
   "outputs": [],
   "source": []
  },
  {
   "cell_type": "markdown",
   "id": "a53bd182",
   "metadata": {},
   "source": [
    "### 12. Why can’t we use Mean Square Error (MSE) as a cost function for logistic regression?"
   ]
  },
  {
   "cell_type": "code",
   "execution_count": null,
   "id": "2ac0ac6c",
   "metadata": {},
   "outputs": [],
   "source": []
  },
  {
   "cell_type": "markdown",
   "id": "11d6e5a9",
   "metadata": {},
   "source": [
    "### 13. What is the Confusion Matrix?"
   ]
  },
  {
   "cell_type": "code",
   "execution_count": null,
   "id": "c0cf0768",
   "metadata": {},
   "outputs": [],
   "source": []
  },
  {
   "cell_type": "markdown",
   "id": "1b2d44e1",
   "metadata": {},
   "source": [
    "### 14. What are the false positives and false negatives?"
   ]
  },
  {
   "cell_type": "code",
   "execution_count": null,
   "id": "5c459d28",
   "metadata": {},
   "outputs": [],
   "source": []
  },
  {
   "cell_type": "markdown",
   "id": "2162372f",
   "metadata": {},
   "source": [
    "### 15. What is the true positive rate (TPR) and true negative rate (TNR)?"
   ]
  },
  {
   "cell_type": "code",
   "execution_count": null,
   "id": "21a7cda4",
   "metadata": {},
   "outputs": [],
   "source": []
  },
  {
   "cell_type": "markdown",
   "id": "59294328",
   "metadata": {},
   "source": [
    "### 16. What is the false-positive rate (FPR) and false-negative rate (FNR)?"
   ]
  },
  {
   "cell_type": "code",
   "execution_count": null,
   "id": "67885762",
   "metadata": {},
   "outputs": [],
   "source": []
  },
  {
   "cell_type": "markdown",
   "id": "7a7b2584",
   "metadata": {},
   "source": [
    "### 17. What are precision and recall? Why this is important in model evaluation?"
   ]
  },
  {
   "cell_type": "code",
   "execution_count": null,
   "id": "a55780ea",
   "metadata": {},
   "outputs": [],
   "source": []
  },
  {
   "cell_type": "markdown",
   "id": "32ec54b7",
   "metadata": {},
   "source": [
    "### 18. What is the purpose of the precision-recall curve?"
   ]
  },
  {
   "cell_type": "code",
   "execution_count": null,
   "id": "e702c54d",
   "metadata": {},
   "outputs": [],
   "source": []
  },
  {
   "cell_type": "markdown",
   "id": "01b6a430",
   "metadata": {},
   "source": [
    "### 19. What is f1-score and Explain its importance?"
   ]
  },
  {
   "cell_type": "code",
   "execution_count": null,
   "id": "b438c139",
   "metadata": {},
   "outputs": [],
   "source": []
  },
  {
   "cell_type": "markdown",
   "id": "11d0a746",
   "metadata": {},
   "source": [
    "### 20. In classification problems like logistic regression, classification accuracy alone is not considered a good measure. Why?"
   ]
  },
  {
   "cell_type": "code",
   "execution_count": null,
   "id": "38508469",
   "metadata": {},
   "outputs": [],
   "source": []
  },
  {
   "cell_type": "markdown",
   "id": "5fbab7e0",
   "metadata": {},
   "source": [
    "### 21. How can you calculate accuracy using a confusion matrix?"
   ]
  },
  {
   "cell_type": "code",
   "execution_count": null,
   "id": "d097d26c",
   "metadata": {},
   "outputs": [],
   "source": []
  },
  {
   "cell_type": "markdown",
   "id": "2fd1052e",
   "metadata": {},
   "source": [
    "### 22. What is Sensitivity?"
   ]
  },
  {
   "cell_type": "code",
   "execution_count": null,
   "id": "ee633ebf",
   "metadata": {},
   "outputs": [],
   "source": []
  },
  {
   "cell_type": "markdown",
   "id": "6b1c96b1",
   "metadata": {},
   "source": [
    "### 23. What is Specificity?"
   ]
  },
  {
   "cell_type": "code",
   "execution_count": null,
   "id": "be789366",
   "metadata": {},
   "outputs": [],
   "source": []
  },
  {
   "cell_type": "markdown",
   "id": "370e4abe",
   "metadata": {},
   "source": [
    "### 24. Explain the use of ROC curves and the AUC of a ROC Curve."
   ]
  },
  {
   "cell_type": "code",
   "execution_count": null,
   "id": "c1871725",
   "metadata": {},
   "outputs": [],
   "source": []
  },
  {
   "cell_type": "markdown",
   "id": "54278604",
   "metadata": {},
   "source": [
    "### 25. What is the bias-variance tradeoff in machine learning? Explain Bias and Variance."
   ]
  },
  {
   "cell_type": "code",
   "execution_count": null,
   "id": "57a74a99",
   "metadata": {},
   "outputs": [],
   "source": []
  },
  {
   "cell_type": "markdown",
   "id": "2658673e",
   "metadata": {},
   "source": [
    "### 26. What is Overfitting?"
   ]
  },
  {
   "cell_type": "markdown",
   "id": "9f395f7a",
   "metadata": {},
   "source": [
    "Overfitting is a concept in data science, which occurs when a statistical model fits exactly against its training data. \n",
    "When this happens, the algorithm unfortunately cannot perform accurately against unseen data, defeating its purpose. \n",
    "Generalization of a model to new data is ultimately what allows us to use machine learning algorithms every day to make \n",
    "predictions and classify data."
   ]
  },
  {
   "cell_type": "markdown",
   "id": "346a3bfa",
   "metadata": {},
   "source": [
    "### 27. What is Underfitting?"
   ]
  },
  {
   "cell_type": "markdown",
   "id": "f02bf7dc",
   "metadata": {},
   "source": [
    "Underfitting is a scenario in data science where a data model is unable to capture the relationship between the input and \n",
    "output variables accurately, generating a high error rate on both the training set and unseen data. It occurs when a model \n",
    "is too simple, which can be a result of a model needing more training time, more input features, or less regularization. Like \n",
    "overfitting, when a model is underfitted, it cannot establish the dominant trend within the data, resulting in training errors \n",
    "and poor performance of the model. If a model cannot generalize well to new data, then it cannot be leveraged for classification \n",
    "or prediction tasks. Generalization of a model to new data is ultimately what allows us to use machine learning algorithms every \n",
    "day to make predictions and classify data."
   ]
  },
  {
   "cell_type": "markdown",
   "id": "e106d521",
   "metadata": {},
   "source": [
    "### 28. How do you deal with overfitting and Underfitting in machine learning?"
   ]
  },
  {
   "cell_type": "markdown",
   "id": "0446b80d",
   "metadata": {},
   "source": [
    "#### Handling Overfitting:\n",
    "\n",
    "There are a number of techniques that machine learning researchers can use to mitigate overfitting. \n",
    "These include : \n",
    "\n",
    "- Cross-validation:- This is done by splitting your dataset into ‘test’ data and ‘train’ data. Build the model using the ‘train’ set. The ‘test’ set is used for in-time validation. This way you know what the expected output is and you will easily be able to judge the accuracy of your model.\n",
    "\n",
    "- Regularization:- This is a form of regression, that regularizes or shrinks the coefficient estimates towards zero. This technique discourages learning a more complex model.\n",
    "\n",
    "- Early stopping:- When training a learner with an iterative method, you stop the training process before the final iteration. This prevents the model from memorizing the dataset.\n",
    "\n",
    "- Pruning:- This technique applies to decision trees.\n",
    "\n",
    "- Pre-pruning:- Stop ‘growing’ the tree earlier before it perfectly classifies the training set.\n",
    "\n",
    "- Post-pruning:- Allows the tree to ‘grow’, perfectly classify the training set and then post prune the tree.\n",
    "\n",
    "- Dropout :- This is a technique where randomly selected neurons are ignored during training.\n",
    "\n",
    "- Regularize the weights.\n",
    "\n",
    "#### Handling Underfitting:\n",
    "\n",
    "- Get more training data.\n",
    "- Increase the size or number of parameters in the model.\n",
    "- Increase the complexity of the model.\n",
    "- Increasing the training time, until cost function is minimised.\n"
   ]
  },
  {
   "cell_type": "markdown",
   "id": "92816039",
   "metadata": {},
   "source": [
    "### 29. Explain Bias and variance using the bulls-eye diagram"
   ]
  },
  {
   "cell_type": "code",
   "execution_count": null,
   "id": "10f0e0d8",
   "metadata": {},
   "outputs": [],
   "source": []
  },
  {
   "cell_type": "markdown",
   "id": "0d25d9e4",
   "metadata": {},
   "source": [
    "### 30. What are the advantages and disadvantages of Logistic Regression"
   ]
  },
  {
   "cell_type": "markdown",
   "id": "bb06ec81",
   "metadata": {},
   "source": [
    "#### Advantage\n",
    "\n",
    "1. Logistic regression is easier to implement, interpret, and very efficient to train.\n",
    "2. It makes no assumptions about distributions of classes in feature space.\n",
    "3. It can easily extend to multiple classes(multinomial regression) and a natural probabilistic view of class predictions.\n",
    "4. It not only provides a measure of how appropriate a predictor(coefficient size)is, but also its direction of association\n",
    "   (positive or negative).\n",
    "5. It is very fast at classifying unknown records.\n",
    "\n",
    "\n",
    "#### Disadvantage\n",
    "\n",
    "1. If the number of observations is lesser than the number of features, Logistic Regression should not be used, otherwise, it \n",
    "   may lead to overfitting.\n",
    "2. It constructs linear boundaries.\n",
    "3. The major limitation of Logistic Regression is the assumption of linearity between the dependent variable and the independent \n",
    "   variables.\n",
    "4. It can only be used to predict discrete functions. Hence, the dependent variable of Logistic Regression is bound to the \n",
    "   discrete number set.\n",
    "5. Non-linear problems can’t be solved with logistic regression because it has a linear decision surface. Linearly separable \n",
    "   data is rarely found in real-world scenarios.Good accuracy for many simple data sets and it performs well when the dataset \n",
    "   is linearly separable.\n",
    "\n"
   ]
  },
  {
   "cell_type": "code",
   "execution_count": null,
   "id": "ec25baac",
   "metadata": {},
   "outputs": [],
   "source": []
  }
 ],
 "metadata": {
  "kernelspec": {
   "display_name": "Python 3 (ipykernel)",
   "language": "python",
   "name": "python3"
  },
  "language_info": {
   "codemirror_mode": {
    "name": "ipython",
    "version": 3
   },
   "file_extension": ".py",
   "mimetype": "text/x-python",
   "name": "python",
   "nbconvert_exporter": "python",
   "pygments_lexer": "ipython3",
   "version": "3.9.13"
  }
 },
 "nbformat": 4,
 "nbformat_minor": 5
}
